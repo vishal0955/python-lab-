{
 "cells": [
  {
   "cell_type": "code",
   "execution_count": null,
   "id": "096955eb-a812-4caa-9686-54ecc556e7b4",
   "metadata": {
    "tags": []
   },
   "outputs": [],
   "source": [
    "double = lambda x:x*2 \n",
    "print(double(5))"
   ]
  },
  {
   "cell_type": "code",
   "execution_count": null,
   "id": "8cc20268-bd3a-47ff-949c-21841ee48fd2",
   "metadata": {},
   "outputs": [],
   "source": [
    "tables = [lambda x=x: x*10 for x in range(1, 11)]\n",
    "\n",
    "\n",
    "for table in tables:\n",
    "\n",
    "    print(table())"
   ]
  },
  {
   "cell_type": "code",
   "execution_count": null,
   "id": "f48709fe-245a-41cf-a143-8267fb8d1286",
   "metadata": {},
   "outputs": [],
   "source": [
    "my_list = [1, 5, 6, 8, 11, 3, 12]\n",
    "new_list = list(filter( lambda x:(x%2 == 0), my_list))\n",
    "print(new_list)"
   ]
  },
  {
   "cell_type": "code",
   "execution_count": null,
   "id": "aeffa403-9917-4459-8210-0d0e39fe8f2c",
   "metadata": {},
   "outputs": [],
   "source": [
    "ages = [13, 90, 17, 59, 21, 60, 5]\n",
    "adult = list(filter(lambda age:age > 18, ages))\n",
    "print(adult)"
   ]
  },
  {
   "cell_type": "code",
   "execution_count": null,
   "id": "72216d04-8511-4b98-9e45-8e9646c32d58",
   "metadata": {},
   "outputs": [],
   "source": [
    "my_list = [5, 7, 22, 97, 61]\n",
    "new_list = list(map(lambda x:x*2,my_list))\n",
    "print(new_list)"
   ]
  },
  {
   "cell_type": "code",
   "execution_count": null,
   "id": "d4c25626-cdc1-4318-afbc-a058d2d4f036",
   "metadata": {},
   "outputs": [],
   "source": [
    "my_list = ['apple','boy','cat']\n",
    "new_list = list(map(lambda x:str.upper(x), my_list))\n",
    "print(new_list)"
   ]
  },
  {
   "cell_type": "code",
   "execution_count": null,
   "id": "f798b1ae-4174-4f52-b3e9-9e21e3721879",
   "metadata": {},
   "outputs": [],
   "source": [
    "from functools import reduce\n",
    "my_list = [1, 4, 5, 78, 89]\n",
    "sum = reduce((lambda x,y:x+y),my_list)\n",
    "print(sum)"
   ]
  },
  {
   "cell_type": "code",
   "execution_count": 1,
   "id": "b2cc3cda-dae4-4297-8eb0-75b8e3ba034e",
   "metadata": {},
   "outputs": [
    {
     "name": "stdout",
     "output_type": "stream",
     "text": [
      "120\n"
     ]
    }
   ],
   "source": [
    "from functools import reduce \n",
    "my_list = [1,2,3,4,5]\n",
    "product = reduce((lambda x,y:x*y),my_list)\n",
    "print(product)"
   ]
  },
  {
   "cell_type": "code",
   "execution_count": null,
   "id": "31a7fabd-ab16-45f6-8634-286bc32bec35",
   "metadata": {},
   "outputs": [],
   "source": []
  }
 ],
 "metadata": {
  "kernelspec": {
   "display_name": "Python 3",
   "language": "python",
   "name": "python3"
  },
  "language_info": {
   "codemirror_mode": {
    "name": "ipython",
    "version": 3
   },
   "file_extension": ".py",
   "mimetype": "text/x-python",
   "name": "python",
   "nbconvert_exporter": "python",
   "pygments_lexer": "ipython3",
   "version": "3.7.8"
  }
 },
 "nbformat": 4,
 "nbformat_minor": 5
}
